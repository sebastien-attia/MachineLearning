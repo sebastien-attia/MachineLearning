{
 "cells": [
  {
   "cell_type": "markdown",
   "metadata": {},
   "source": [
    "# Cheat sheet on Neural Networks 1  \n",
    "\n",
    "The following article is a cheat sheet on neural networks. My sources are based on the following course and article:\n",
    "- the excellent Machine Learning course on Coursera from Professor Andrew Ng, Stanford,\n",
    "- the very good article from Michael Nielsen, explaining the backpropagation algorithm.\n",
    "\n",
    "## Why the neural networks are powerful ?  \n",
    "\n",
    "It is proven mathematically that:  \n",
    "\n",
    "> Suppose we’re given a [continuous] function f(x) which we’d like to compute to within some desired accuracy ϵ>0. The guarantee is that by using enough hidden neurons we can always find a neural network whose output g(x) satisfies:\n",
    "|g(x)−f(x)|<ϵ, for all inputs x.  \n",
    "\n",
    "Michael Nielsen — From the following article\n",
    "\n",
    "##  Conventions  \n",
    "Let’s define a neural network with the following convention:"
   ]
  },
  {
   "cell_type": "code",
   "execution_count": null,
   "metadata": {
    "collapsed": true
   },
   "outputs": [],
   "source": []
  }
 ],
 "metadata": {
  "kernelspec": {
   "display_name": "Python 2",
   "language": "python",
   "name": "python2"
  },
  "language_info": {
   "codemirror_mode": {
    "name": "ipython",
    "version": 2
   },
   "file_extension": ".py",
   "mimetype": "text/x-python",
   "name": "python",
   "nbconvert_exporter": "python",
   "pygments_lexer": "ipython2",
   "version": "2.7.12"
  }
 },
 "nbformat": 4,
 "nbformat_minor": 1
}
