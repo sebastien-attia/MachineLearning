{
 "cells": [
  {
   "cell_type": "markdown",
   "metadata": {},
   "source": [
    "# Cheat sheet on Neural Networks 1  \n",
    "\n",
    "The following article is a cheat sheet on neural networks. My sources are based on the following course and article:\n",
    "- the excellent Machine Learning course on Coursera from Professor Andrew Ng, Stanford,\n",
    "- the very good article from Michael Nielsen, explaining the backpropagation algorithm.\n",
    "\n",
    "## Why the neural networks are powerful ?  \n",
    "\n",
    "It is proven mathematically that:  \n",
    "\n",
    "> Suppose we’re given a [continuous] function f(x) which we’d like to compute to within some desired accuracy ϵ>0. The guarantee is that by using enough hidden neurons we can always find a neural network whose output g(x) satisfies:\n",
    "|g(x)−f(x)|<ϵ, for all inputs x.  \n",
    "\n",
    "_Michael Nielsen — From the following [article](http://neuralnetworksanddeeplearning.com/chap4.html)_\n",
    "\n",
    "##  Conventions  \n",
    "Let’s define a neural network with the following convention:\n",
    "\n",
    "L = total number of layers in the network.  \n",
    "$s_l$ = number of units (not counting bias unit) in layer l.  \n",
    "K = number of units in output layer ( = $s_l$ ).  \n",
    "\n",
    "<img src=\"images/Neural_Network_definition.png\" />\n",
    "\n",
    "We define the matrix θ of the weights for the layer l as following:\n",
    "\n",
    "$$\n",
    "\\theta^{(l)} \\in \\mathbb{R}^{s_l \\times (s_{(l-1)}+1)}\n",
    "$$\n",
    "\n",
    "$$\n",
    "\\theta^{(l)} = \n",
    "\\begin{bmatrix}\n",
    "    [ \\theta^{(l)}_1 ]^T \\\\\n",
    "    [ \\theta^{(l)}_2 ]^T \\\\\n",
    "    \\vdots \\\\\n",
    "    [ \\theta^{(l)}_{s_{l}} ]^T\n",
    "\\end{bmatrix} =\n",
    "\\begin{bmatrix}\n",
    "    \\theta_{1,0} & \\dots & \\theta_{1,j} & \\dots  & \\theta_{1,s_{l-1}} \\\\\n",
    "    \\vdots       &       & \\vdots       &        & \\vdots \\\\\n",
    "    \\theta_{i,0} & \\dots & \\theta_{i,j} & \\dots  & \\theta_{i,s_{l-1}} \\\\\n",
    "    \\vdots       &       & \\vdots       &        & \\vdots \\\\\n",
    "    \\theta_{s_l,0} & \\dots & \\theta_{s_l,j} & \\dots  & \\theta_{s_l,s_{l-1}} \\\\\n",
    "\\end{bmatrix}\n",
    "$$\n",
    "\n",
    "Hence, we have the following relation: \n",
    "$$a^{(l)} = g(\\theta^{(l).a^{(l-1)}})$$\n",
    "\n",
    "\n",
    "$$c = \\sqrt{a^2 + b^2}$$\n"
   ]
  },
  {
   "cell_type": "code",
   "execution_count": null,
   "metadata": {
    "collapsed": true
   },
   "outputs": [],
   "source": []
  }
 ],
 "metadata": {
  "kernelspec": {
   "display_name": "Python 2",
   "language": "python",
   "name": "python2"
  },
  "language_info": {
   "codemirror_mode": {
    "name": "ipython",
    "version": 2
   },
   "file_extension": ".py",
   "mimetype": "text/x-python",
   "name": "python",
   "nbconvert_exporter": "python",
   "pygments_lexer": "ipython2",
   "version": "2.7.12"
  }
 },
 "nbformat": 4,
 "nbformat_minor": 1
}
